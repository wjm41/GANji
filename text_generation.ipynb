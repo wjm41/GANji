{
 "cells": [
  {
   "cell_type": "markdown",
   "metadata": {},
   "source": [
    "Imports"
   ]
  },
  {
   "cell_type": "code",
   "execution_count": null,
   "metadata": {},
   "outputs": [],
   "source": [
    "import matplotlib.pyplot as plt\n",
    "import pandas as pd\n",
    "import numpy as np\n",
    "\n",
    "import random\n",
    "import re\n",
    "import glob\n",
    "from PIL import Image,ImageDraw,ImageFont"
   ]
  },
  {
   "cell_type": "markdown",
   "metadata": {},
   "source": [
    "Load annotated font .csv and define root directory containing google fonts repo"
   ]
  },
  {
   "cell_type": "code",
   "execution_count": null,
   "metadata": {},
   "outputs": [],
   "source": [
    "df = pd.read_csv('google-fonts-annotaion.csv')\n",
    "\n",
    "# change your path here\n",
    "rds_dir = '/rds-d2/user/wjm41/hpc-work/datasets'\n",
    "ROOT = rds_dir+'/fonts/ofl'"
   ]
  },
  {
   "cell_type": "markdown",
   "metadata": {},
   "source": [
    "define font filtering & retrieval function"
   ]
  },
  {
   "cell_type": "code",
   "execution_count": null,
   "metadata": {},
   "outputs": [],
   "source": [
    "def filter_fonts_get_paths(df, root='./', variants=['_'], subsets=['_'], category=''):\n",
    "    # exceptions\n",
    "    if not variants or variants == [''] or variants == '': variants = ['_']\n",
    "    if not subsets or subsets == [''] or subsets == '': subsets = ['_']\n",
    "    # apply filters\n",
    "    regex_filters = variants + subsets + ['_'+category]\n",
    "    df_new = pd.concat([df.filter(regex=re.compile(regex, re.IGNORECASE), axis=1).sum(axis=1).astype(bool) for regex in regex_filters], axis=1)\n",
    "    mask = df_new.all(axis=1)\n",
    "    filtered_fontnames = list(df.loc[mask].family)\n",
    "    # construct file paths\n",
    "    paths = []\n",
    "    for fontname in filtered_fontnames:\n",
    "        if variants == ['_']: # select all variants\n",
    "            sel = glob.glob(f'{root}/{fontname.lower()}/**/**/**/*.ttf', recursive=True)\n",
    "            paths.extend(sel)\n",
    "        else:\n",
    "            for variant in variants:\n",
    "                sel = glob.glob(f'{root}/{fontname.lower()}/**/**/{fontname}-{variant}.ttf', recursive=True) \n",
    "                for path in sel:\n",
    "                    paths.append(path)\n",
    "    print(f'Found {len(paths)} font files.')\n",
    "    return paths"
   ]
  },
  {
   "cell_type": "markdown",
   "metadata": {},
   "source": [
    "Draw text example using a random font!"
   ]
  },
  {
   "cell_type": "code",
   "execution_count": null,
   "metadata": {},
   "outputs": [],
   "source": [
    "paths = filter_fonts_get_paths(df, root=ROOT, subsets=['chinese-simplified'], variants=['_'], category='')\n",
    "r = random.randrange(0, len(paths))\n",
    "\n",
    "# sample text and font\n",
    "text = \"新年快樂\"\n",
    "text = \"身體健康\"\n",
    "text = \"心想事成\"\n",
    "\n",
    "text_size = 150\n",
    "font = ImageFont.truetype(paths[r], text_size)\n",
    "\n",
    "# # get text info (not being used but may be useful)\n",
    "text_width, text_height = font.getsize(text)\n",
    "left, top, right, bottom = font.getbbox(text)\n",
    "print('text w & h: ', text_width, text_height)\n",
    "print(left, top, right, bottom)\n",
    "\n",
    "IMG_WIDTH = 700\n",
    "IMG_HEIGHT = 200\n",
    "\n",
    "x = 300 # we can adjust this according to IMG_WIDTH etc\n",
    "y = 150\n",
    "\n",
    "# create a blank canvas with extra space between lines\n",
    "canvas = Image.new('RGB', (IMG_WIDTH, IMG_HEIGHT), \"red\")\n",
    "\n",
    "# draw the text onto the text canvas\n",
    "draw = ImageDraw.Draw(canvas)\n",
    "draw.text((x, y), text, 'black', font, anchor='ms')\n",
    "\n",
    "fig = plt.figure(figsize=(30,10))\n",
    "plt.imshow(canvas, aspect='auto')"
   ]
  }
 ],
 "metadata": {
  "interpreter": {
   "hash": "7367a18b348ca6007dd30e14cd00de3b4d55612a2acbb3a217e58adb00f48737"
  },
  "kernelspec": {
   "display_name": "Python 3.7.10 64-bit ('fresco': conda)",
   "language": "python",
   "name": "python3"
  },
  "language_info": {
   "name": "python",
   "version": "3.7.10"
  },
  "orig_nbformat": 4
 },
 "nbformat": 4,
 "nbformat_minor": 2
}
